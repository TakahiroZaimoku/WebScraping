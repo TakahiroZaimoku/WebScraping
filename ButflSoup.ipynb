{
 "cells": [
  {
   "cell_type": "code",
   "execution_count": 2,
   "id": "ca1bfd00-5f93-4d53-aadc-b8bf62d2fb04",
   "metadata": {},
   "outputs": [],
   "source": [
    "#pip install pyinstaller\n",
    "#pip install bs4\n",
    "pip install selenium\n",
    "pip install chromedriver-binary==102.0.5005.61"
   ]
  },
  {
   "cell_type": "code",
   "execution_count": 23,
   "id": "302db107-9a7c-4b5d-8b3b-e5f18bfa8dca",
   "metadata": {},
   "outputs": [
    {
     "name": "stderr",
     "output_type": "stream",
     "text": [
      "C:\\Users\\zaimoku\\AppData\\Local\\Temp\\ipykernel_1384\\2760709767.py:17: DeprecationWarning: find_elements_by_class_name is deprecated. Please use find_elements(by=By.CLASS_NAME, value=name) instead\n",
      "  usd_tts = driver.find_elements_by_class_name(\"sbrate-sellrate\")\n",
      "C:\\Users\\zaimoku\\AppData\\Local\\Temp\\ipykernel_1384\\2760709767.py:20: DeprecationWarning: find_elements_by_class_name is deprecated. Please use find_elements(by=By.CLASS_NAME, value=name) instead\n",
      "  usd_ttb = driver.find_elements_by_class_name(\"sbrate-buyrate\")\n"
     ]
    },
    {
     "name": "stdout",
     "output_type": "stream",
     "text": [
      "USD(TTB):134.51\n",
      "USD(TTS):134.21\n"
     ]
    }
   ],
   "source": [
    "#from bs4 import BeautifulSoup\n",
    "#import requests\n",
    "from selenium import webdriver\n",
    "import chromedriver_binary\n",
    "driver = webdriver.Chrome()\n",
    "#設定 ヘッダー\n",
    "#headers = {'User-Agent': ua}\n",
    "#設定 URL(ソニー銀行)\n",
    "target_url = \"https://moneykit.net/visitor/sb_rate/\"\n",
    "#取得 response stetus(200)\n",
    "#r = requests.get(target_url,headers=headers)\n",
    "driver.get(target_url)\n",
    "#取得 ページ全文\n",
    "#soup = BeautifulSoup(r.content, \"html.parser\")\n",
    "#取得 米ドルTTB\n",
    "#usd_ttb = soup.select(\"#tab01cont > div > table > tbody > tr:nth-of-type(1) > td:nth-of-type(2) > strong\")\n",
    "usd_tts = driver.find_elements_by_class_name(\"sbrate-sellrate\")\n",
    "#取得 米ドルTTS\n",
    "#usd_tts = soup.select('sbrate-buyrate')\n",
    "usd_ttb = driver.find_elements_by_class_name(\"sbrate-buyrate\")\n",
    "#表示 全文 ※確認用\n",
    "#print(soup)\n",
    "#表示 米ドルTTB\n",
    "print(f\"USD(TTB):{usd_ttb[0].text}\")\n",
    "#表示 米ドルTTS\n",
    "print(f\"USD(TTS):{usd_tts[0].text}\")\n",
    "#ブラウザを閉じる\n",
    "driver.quit()"
   ]
  },
  {
   "cell_type": "code",
   "execution_count": null,
   "id": "dfdc4927-33d6-46cf-bd02-24d9022c6ece",
   "metadata": {},
   "outputs": [],
   "source": []
  },
  {
   "cell_type": "code",
   "execution_count": null,
   "id": "e6888770-94ae-42da-8c03-db7f05710c4c",
   "metadata": {},
   "outputs": [],
   "source": []
  }
 ],
 "metadata": {
  "interpreter": {
   "hash": "75fdeb46c7a9f7d6185c7db397f01d674e0fbb5448af083d63ec7759cdb1f22d"
  },
  "kernelspec": {
   "display_name": "Python 3.10.4 64-bit",
   "language": "python",
   "name": "python3"
  },
  "language_info": {
   "codemirror_mode": {
    "name": "ipython",
    "version": 3
   },
   "file_extension": ".py",
   "mimetype": "text/x-python",
   "name": "python",
   "nbconvert_exporter": "python",
   "pygments_lexer": "ipython3",
   "version": "3.10.4"
  }
 },
 "nbformat": 4,
 "nbformat_minor": 5
}
