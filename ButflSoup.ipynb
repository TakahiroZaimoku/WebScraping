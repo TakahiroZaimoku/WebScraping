{
 "cells": [
  {
   "cell_type": "code",
   "execution_count": null,
   "id": "ca1bfd00-5f93-4d53-aadc-b8bf62d2fb04",
   "metadata": {},
   "outputs": [],
   "source": [
    "pip install selenium\n",
    "pip install chromedriver-binary"
   ]
  },
  {
   "cell_type": "code",
   "execution_count": 15,
   "id": "302db107-9a7c-4b5d-8b3b-e5f18bfa8dca",
   "metadata": {},
   "outputs": [
    {
     "name": "stderr",
     "output_type": "stream",
     "text": [
      "C:\\Users\\zaimoku\\AppData\\Local\\Temp\\ipykernel_28292\\3229237693.py:18: DeprecationWarning: find_elements_by_class_name is deprecated. Please use find_elements(by=By.CLASS_NAME, value=name) instead\n",
      "  usd_tts = driver.find_elements_by_class_name(\"sbrate-sellrate\")\n",
      "C:\\Users\\zaimoku\\AppData\\Local\\Temp\\ipykernel_28292\\3229237693.py:20: DeprecationWarning: find_elements_by_class_name is deprecated. Please use find_elements(by=By.CLASS_NAME, value=name) instead\n",
      "  usd_ttb = driver.find_elements_by_class_name(\"sbrate-buyrate\")\n"
     ]
    },
    {
     "name": "stdout",
     "output_type": "stream",
     "text": [
      "USD(TTB):134.51\n",
      "USD(TTS):134.21\n"
     ]
    }
   ],
   "source": [
    "from selenium import webdriver\n",
    "from selenium.webdriver.chrome.options import Options\n",
    "import chromedriver_binary\n",
    "#設定 ブラウザ起動時のオプション\n",
    "Options = Options()\n",
    "#設定 ブラウザを非表示\n",
    "Options.add_argument(\"--headless\")\n",
    "#ブラウザを機動\n",
    "driver = webdriver.Chrome(options=Options)\n",
    "#設定 URL(ソニー銀行)\n",
    "target_url = \"https://moneykit.net/visitor/sb_rate/\"\n",
    "#URLを開く\n",
    "driver.get(target_url)\n",
    "#取得 米ドルTTB\n",
    "usd_tts = driver.find_elements_by_class_name(\"sbrate-sellrate\")\n",
    "#取得 米ドルTTS\n",
    "usd_ttb = driver.find_elements_by_class_name(\"sbrate-buyrate\")\n",
    "#表示 米ドルTTB\n",
    "print(f\"USD(TTB):{usd_ttb[0].text}\")\n",
    "#表示 米ドルTTS\n",
    "print(f\"USD(TTS):{usd_tts[0].text}\")\n",
    "#ブラウザを閉じる\n",
    "driver.quit()"
   ]
  },
  {
   "cell_type": "code",
   "execution_count": null,
   "id": "cb9dbdbd",
   "metadata": {},
   "outputs": [],
   "source": []
  }
 ],
 "metadata": {
  "interpreter": {
   "hash": "75fdeb46c7a9f7d6185c7db397f01d674e0fbb5448af083d63ec7759cdb1f22d"
  },
  "kernelspec": {
   "display_name": "Python 3.10.4 64-bit",
   "language": "python",
   "name": "python3"
  },
  "language_info": {
   "codemirror_mode": {
    "name": "ipython",
    "version": 3
   },
   "file_extension": ".py",
   "mimetype": "text/x-python",
   "name": "python",
   "nbconvert_exporter": "python",
   "pygments_lexer": "ipython3",
   "version": "3.10.4"
  }
 },
 "nbformat": 4,
 "nbformat_minor": 5
}
